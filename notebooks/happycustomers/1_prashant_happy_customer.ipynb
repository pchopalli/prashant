{
 "cells": [
  {
   "cell_type": "markdown",
   "id": "7083a4e8",
   "metadata": {},
   "source": [
    "<h2>Introduction</h2>\n",
    "<p>\n",
    "We are one of the fastest growing startups in the logistics and delivery domain. We work with several partners and make on-demand delivery to our customers. During the COVID-19 pandemic, we are facing several different challenges and everyday we are trying to address these challenges. We thrive on making our customers happy. As a growing startup, with a global expansion strategy we know that we need to make our customers happy and the only way to do that is to measure how happy each customer is </p>"
   ]
  },
  {
   "cell_type": "markdown",
   "id": "93d07767",
   "metadata": {},
   "source": [
    "<h2>Problem Statement</h2>\n",
    "<p>As a fast growing company, we want to know if our customer are happy or not. We want to be able to predict what makes our customer happy or unhappy. We will be making prediction on customer satisfaction and also see what are most affecting factors. We want to know if he a customer is happy and what factors we should be using to make that decision</p>"
   ]
  },
  {
   "cell_type": "code",
   "execution_count": 23,
   "id": "33e78c12",
   "metadata": {},
   "outputs": [],
   "source": [
    "# Import the reuqired libraries\n",
    "import pandas as pd\n",
    "import numpy as np\n",
    "import matplotlib.pyplot as plt\n",
    "import seaborn as sns\n",
    "from sklearn.model_selection import train_test_split, GridSearchCV, cross_val_score, StratifiedKFold\n",
    "from sklearn.svm import SVC\n",
    "from sklearn.metrics import accuracy_score, confusion_matrix, classification_report,ConfusionMatrixDisplay\n",
    "from sklearn.metrics import precision_score, recall_score, f1_score, roc_curve, roc_auc_score\n",
    "from sklearn.preprocessing import OneHotEncoder, StandardScaler, MinMaxScaler, OrdinalEncoder, LabelEncoder\n",
    "from sklearn.preprocessing import StandardScaler\n",
    "from sklearn.linear_model import LogisticRegression\n",
    "from sklearn.tree import DecisionTreeClassifier\n",
    "from sklearn.ensemble import ExtraTreesClassifier\n",
    "from sklearn.ensemble import RandomForestClassifier\n",
    "from sklearn.ensemble import AdaBoostClassifier\n",
    "from sklearn.ensemble import GradientBoostingClassifier\n",
    "import warnings\n",
    "warnings.filterwarnings('ignore')"
   ]
  },
  {
   "cell_type": "code",
   "execution_count": 24,
   "id": "27eaaafe",
   "metadata": {},
   "outputs": [],
   "source": [
    "# Read the CSV file into a Pandas Dataframe df\n",
    "df=pd.read_csv('ACME-HappinessSurvey2020.csv')"
   ]
  },
  {
   "cell_type": "code",
   "execution_count": 25,
   "id": "87e8ba67",
   "metadata": {},
   "outputs": [
    {
     "data": {
      "text/html": [
       "<div>\n",
       "<style scoped>\n",
       "    .dataframe tbody tr th:only-of-type {\n",
       "        vertical-align: middle;\n",
       "    }\n",
       "\n",
       "    .dataframe tbody tr th {\n",
       "        vertical-align: top;\n",
       "    }\n",
       "\n",
       "    .dataframe thead th {\n",
       "        text-align: right;\n",
       "    }\n",
       "</style>\n",
       "<table border=\"1\" class=\"dataframe\">\n",
       "  <thead>\n",
       "    <tr style=\"text-align: right;\">\n",
       "      <th></th>\n",
       "      <th>Y</th>\n",
       "      <th>X1</th>\n",
       "      <th>X2</th>\n",
       "      <th>X3</th>\n",
       "      <th>X4</th>\n",
       "      <th>X5</th>\n",
       "      <th>X6</th>\n",
       "    </tr>\n",
       "  </thead>\n",
       "  <tbody>\n",
       "    <tr>\n",
       "      <th>0</th>\n",
       "      <td>0</td>\n",
       "      <td>3</td>\n",
       "      <td>3</td>\n",
       "      <td>3</td>\n",
       "      <td>4</td>\n",
       "      <td>2</td>\n",
       "      <td>4</td>\n",
       "    </tr>\n",
       "    <tr>\n",
       "      <th>1</th>\n",
       "      <td>0</td>\n",
       "      <td>3</td>\n",
       "      <td>2</td>\n",
       "      <td>3</td>\n",
       "      <td>5</td>\n",
       "      <td>4</td>\n",
       "      <td>3</td>\n",
       "    </tr>\n",
       "    <tr>\n",
       "      <th>2</th>\n",
       "      <td>1</td>\n",
       "      <td>5</td>\n",
       "      <td>3</td>\n",
       "      <td>3</td>\n",
       "      <td>3</td>\n",
       "      <td>3</td>\n",
       "      <td>5</td>\n",
       "    </tr>\n",
       "    <tr>\n",
       "      <th>3</th>\n",
       "      <td>0</td>\n",
       "      <td>5</td>\n",
       "      <td>4</td>\n",
       "      <td>3</td>\n",
       "      <td>3</td>\n",
       "      <td>3</td>\n",
       "      <td>5</td>\n",
       "    </tr>\n",
       "    <tr>\n",
       "      <th>4</th>\n",
       "      <td>0</td>\n",
       "      <td>5</td>\n",
       "      <td>4</td>\n",
       "      <td>3</td>\n",
       "      <td>3</td>\n",
       "      <td>3</td>\n",
       "      <td>5</td>\n",
       "    </tr>\n",
       "    <tr>\n",
       "      <th>5</th>\n",
       "      <td>1</td>\n",
       "      <td>5</td>\n",
       "      <td>5</td>\n",
       "      <td>3</td>\n",
       "      <td>5</td>\n",
       "      <td>5</td>\n",
       "      <td>5</td>\n",
       "    </tr>\n",
       "    <tr>\n",
       "      <th>6</th>\n",
       "      <td>0</td>\n",
       "      <td>3</td>\n",
       "      <td>1</td>\n",
       "      <td>2</td>\n",
       "      <td>2</td>\n",
       "      <td>1</td>\n",
       "      <td>3</td>\n",
       "    </tr>\n",
       "    <tr>\n",
       "      <th>7</th>\n",
       "      <td>1</td>\n",
       "      <td>5</td>\n",
       "      <td>4</td>\n",
       "      <td>4</td>\n",
       "      <td>4</td>\n",
       "      <td>4</td>\n",
       "      <td>5</td>\n",
       "    </tr>\n",
       "    <tr>\n",
       "      <th>8</th>\n",
       "      <td>0</td>\n",
       "      <td>4</td>\n",
       "      <td>1</td>\n",
       "      <td>4</td>\n",
       "      <td>4</td>\n",
       "      <td>4</td>\n",
       "      <td>4</td>\n",
       "    </tr>\n",
       "    <tr>\n",
       "      <th>9</th>\n",
       "      <td>0</td>\n",
       "      <td>4</td>\n",
       "      <td>4</td>\n",
       "      <td>4</td>\n",
       "      <td>2</td>\n",
       "      <td>5</td>\n",
       "      <td>5</td>\n",
       "    </tr>\n",
       "  </tbody>\n",
       "</table>\n",
       "</div>"
      ],
      "text/plain": [
       "   Y  X1  X2  X3  X4  X5  X6\n",
       "0  0   3   3   3   4   2   4\n",
       "1  0   3   2   3   5   4   3\n",
       "2  1   5   3   3   3   3   5\n",
       "3  0   5   4   3   3   3   5\n",
       "4  0   5   4   3   3   3   5\n",
       "5  1   5   5   3   5   5   5\n",
       "6  0   3   1   2   2   1   3\n",
       "7  1   5   4   4   4   4   5\n",
       "8  0   4   1   4   4   4   4\n",
       "9  0   4   4   4   2   5   5"
      ]
     },
     "execution_count": 25,
     "metadata": {},
     "output_type": "execute_result"
    }
   ],
   "source": [
    "df.head(10)"
   ]
  },
  {
   "cell_type": "markdown",
   "id": "c78e4c3e",
   "metadata": {},
   "source": [
    "      Y = target attribute (Y) with values indicating 0 (unhappy) and 1 (happy) customers \n",
    "      X1 = my order was delivered on time\n",
    "      X2 = contents of my order was as I expected\n",
    "      X3 = I ordered everything I wanted to order\n",
    "      X4 = I paid a good price for my order\n",
    "      X5 = I am satisfied with my courier\n",
    "      X6 = the app makes ordering easy for me\n",
    "\n",
    "<p>We have a dataset where the target attribute is the Overall Satisfaction of the customer classified as either Happy or Unhappy</p>\n",
    "\n",
    "Dependent variables are various quenstionarre like 'my order was delivered on time' with each attribute having a rating of 0-5 with 0 being Least and 5 the highest\n"
   ]
  },
  {
   "cell_type": "code",
   "execution_count": 26,
   "id": "d60035c6",
   "metadata": {},
   "outputs": [
    {
     "data": {
      "text/plain": [
       "Index(['Y', 'X1', 'X2', 'X3', 'X4', 'X5', 'X6'], dtype='object')"
      ]
     },
     "execution_count": 26,
     "metadata": {},
     "output_type": "execute_result"
    }
   ],
   "source": [
    "# Display the name of the Columns\n",
    "df.columns"
   ]
  },
  {
   "cell_type": "code",
   "execution_count": 27,
   "id": "d2f4c0f3",
   "metadata": {},
   "outputs": [
    {
     "data": {
      "text/plain": [
       "882"
      ]
     },
     "execution_count": 27,
     "metadata": {},
     "output_type": "execute_result"
    }
   ],
   "source": [
    "# Display the size of the data set.\n",
    "df.size"
   ]
  },
  {
   "cell_type": "code",
   "execution_count": 28,
   "id": "db35244f",
   "metadata": {},
   "outputs": [
    {
     "data": {
      "text/plain": [
       "(126, 7)"
      ]
     },
     "execution_count": 28,
     "metadata": {},
     "output_type": "execute_result"
    }
   ],
   "source": [
    "# Display the shape of the data set.\n",
    "df.shape"
   ]
  },
  {
   "cell_type": "code",
   "execution_count": 29,
   "id": "a1373917",
   "metadata": {},
   "outputs": [
    {
     "data": {
      "text/plain": [
       "Y     0\n",
       "X1    0\n",
       "X2    0\n",
       "X3    0\n",
       "X4    0\n",
       "X5    0\n",
       "X6    0\n",
       "dtype: int64"
      ]
     },
     "execution_count": 29,
     "metadata": {},
     "output_type": "execute_result"
    }
   ],
   "source": [
    "# Display the sum of total number of null values for each Column\n",
    "df.isnull().sum()"
   ]
  },
  {
   "cell_type": "markdown",
   "id": "eb56f8fa",
   "metadata": {},
   "source": [
    "The dataset is relatively smaller with 882 values. No null values are present. Total number of rows 126 and 7 Columns (including Target variable)"
   ]
  },
  {
   "cell_type": "code",
   "execution_count": 30,
   "id": "b728b4dd",
   "metadata": {},
   "outputs": [
    {
     "data": {
      "text/plain": [
       "1    69\n",
       "0    57\n",
       "Name: Y, dtype: int64"
      ]
     },
     "execution_count": 30,
     "metadata": {},
     "output_type": "execute_result"
    }
   ],
   "source": [
    "df['Y'].value_counts()"
   ]
  },
  {
   "cell_type": "markdown",
   "id": "8a379219",
   "metadata": {},
   "source": [
    "    The dataset is fairly balanced with 57 and 69 values each for the binary target variable"
   ]
  },
  {
   "cell_type": "markdown",
   "id": "bdbf4961",
   "metadata": {},
   "source": [
    "      We will check the responses of the Happy customers, what are the most important parameters for a Happy customer. For e.g. how many Happy Customers rated \"My order was delivered on time\" as high"
   ]
  },
  {
   "cell_type": "code",
   "execution_count": 31,
   "id": "6ea37ea9",
   "metadata": {},
   "outputs": [],
   "source": [
    "# Subset of data of Happy customer only\n",
    "df_happy=df[df['Y']==1]\n"
   ]
  },
  {
   "cell_type": "code",
   "execution_count": 32,
   "id": "7b7b3b88",
   "metadata": {},
   "outputs": [
    {
     "data": {
      "text/plain": [
       "[Text(0.5, 1.0, 'My order was delivered on time'),\n",
       " Text(0.5, 0, 'X1'),\n",
       " Text(0, 0.5, 'No. of Responses')]"
      ]
     },
     "execution_count": 32,
     "metadata": {},
     "output_type": "execute_result"
    },
    {
     "data": {
      "image/png": "[encoded data removed]",
      "text/plain": [
       "<Figure size 432x288 with 1 Axes>"
      ]
     },
     "metadata": {
      "needs_background": "light"
     },
     "output_type": "display_data"
    }
   ],
   "source": [
    "df_x1=df_happy['Y'].groupby(df_happy['X1']).count()\n",
    "sns.barplot(df_x1.index,df_x1.values).set(title=\"My order was delivered on time\",xlabel='X1',ylabel='No. of Responses')"
   ]
  },
  {
   "cell_type": "code",
   "execution_count": 33,
   "id": "0c9e3f1a",
   "metadata": {},
   "outputs": [
    {
     "data": {
      "text/plain": [
       "[Text(0.5, 1.0, 'Contents of my order was as I expected'),\n",
       " Text(0.5, 0, 'X2'),\n",
       " Text(0, 0.5, 'No. of Responses')]"
      ]
     },
     "execution_count": 33,
     "metadata": {},
     "output_type": "execute_result"
    },
    {
     "data": {
      "image/png": "[encoded data removed]",
      "text/plain": [
       "<Figure size 432x288 with 1 Axes>"
      ]
     },
     "metadata": {
      "needs_background": "light"
     },
     "output_type": "display_data"
    }
   ],
   "source": [
    "df_x2=df_happy['Y'].groupby(df_happy['X2']).count()\n",
    "\n",
    "sns.barplot(df_x2.index,df_x2.values).set(title=\"Contents of my order was as I expected\",xlabel='X2',ylabel='No. of Responses')"
   ]
  },
  {
   "cell_type": "code",
   "execution_count": 34,
   "id": "09d50445",
   "metadata": {},
   "outputs": [
    {
     "data": {
      "text/plain": [
       "[Text(0.5, 1.0, 'I ordered everything I wanted to order'),\n",
       " Text(0.5, 0, 'X3'),\n",
       " Text(0, 0.5, 'No. of Responses')]"
      ]
     },
     "execution_count": 34,
     "metadata": {},
     "output_type": "execute_result"
    },
    {
     "data": {
      "image/png": "[encoded data removed]",
      "text/plain": [
       "<Figure size 432x288 with 1 Axes>"
      ]
     },
     "metadata": {
      "needs_background": "light"
     },
     "output_type": "display_data"
    }
   ],
   "source": [
    "df_x3=df_happy['Y'].groupby(df_happy['X3']).count()\n",
    "sns.barplot(df_x3.index,df_x3.values).set(title=\"I ordered everything I wanted to order\",xlabel='X3',ylabel='No. of Responses')"
   ]
  },
  {
   "cell_type": "code",
   "execution_count": 35,
   "id": "dd202edb",
   "metadata": {},
   "outputs": [
    {
     "data": {
      "text/plain": [
       "[Text(0.5, 1.0, 'I paid a good price for my order'),\n",
       " Text(0.5, 0, 'X4'),\n",
       " Text(0, 0.5, 'No. of Responses')]"
      ]
     },
     "execution_count": 35,
     "metadata": {},
     "output_type": "execute_result"
    },
    {
     "data": {
      "image/png": "[encoded data removed]",
      "text/plain": [
       "<Figure size 432x288 with 1 Axes>"
      ]
     },
     "metadata": {
      "needs_background": "light"
     },
     "output_type": "display_data"
    }
   ],
   "source": [
    "df_x4=df_happy['Y'].groupby(df_happy['X4']).count()\n",
    "sns.barplot(df_x4.index,df_x4.values).set(title=\"I paid a good price for my order\",xlabel='X4',ylabel='No. of Responses')"
   ]
  },
  {
   "cell_type": "code",
   "execution_count": 36,
   "id": "147e8975",
   "metadata": {},
   "outputs": [
    {
     "data": {
      "text/plain": [
       "[Text(0.5, 1.0, 'I am satisfied with my courier'),\n",
       " Text(0.5, 0, 'X5'),\n",
       " Text(0, 0.5, 'No. of Responses')]"
      ]
     },
     "execution_count": 36,
     "metadata": {},
     "output_type": "execute_result"
    },
    {
     "data": {
      "image/png": "[encoded data removed]",
      "text/plain": [
       "<Figure size 432x288 with 1 Axes>"
      ]
     },
     "metadata": {
      "needs_background": "light"
     },
     "output_type": "display_data"
    }
   ],
   "source": [
    "df_x5=df_happy['Y'].groupby(df_happy['X5']).count()\n",
    "sns.barplot(df_x5.index,df_x5.values).set(title=\"I am satisfied with my courier\",xlabel='X5',ylabel='No. of Responses')"
   ]
  },
  {
   "cell_type": "code",
   "execution_count": 37,
   "id": "41a61dd0",
   "metadata": {},
   "outputs": [
    {
     "data": {
      "text/plain": [
       "[Text(0.5, 1.0, 'The app makes ordering easy for me'),\n",
       " Text(0.5, 0, 'X6'),\n",
       " Text(0, 0.5, 'No. of Responses')]"
      ]
     },
     "execution_count": 37,
     "metadata": {},
     "output_type": "execute_result"
    },
    {
     "data": {
      "image/png": "[encoded data removed]",
      "text/plain": [
       "<Figure size 432x288 with 1 Axes>"
      ]
     },
     "metadata": {
      "needs_background": "light"
     },
     "output_type": "display_data"
    }
   ],
   "source": [
    "df_x6=df_happy['Y'].groupby(df_happy['X6']).count()\n",
    "sns.barplot(df_x6.index,df_x6.values).set(title=\"The app makes ordering easy for me\",xlabel='X6',ylabel='No. of Responses')"
   ]
  },
  {
   "cell_type": "markdown",
   "id": "7fa446e7",
   "metadata": {},
   "source": [
    "<h2> Model Training </h2>"
   ]
  },
  {
   "cell_type": "markdown",
   "id": "919ef108",
   "metadata": {},
   "source": [
    "<p> Various models were trained and validated in our approach to find the best model to solve our problem. Logistic Regression model with default parameters and then the hyperparameters were tuned, this model didn't give the best accuracy. SVM model was trained with default values, polynomial and hyperparamter tuning. SVM model with polynomial=3 gave better accuracy but it was not the best accuracy. RandomForest model was trained with default and hyperparamter tuning and the accuracy was low. VotingClassifer and AdaBoost models were also trained with accuracy not any better than other models </p>\n",
    "\n",
    "<p> Feature Engineering was used to select the best features. After dropping less simportant features , the model was trained using Random Forest which resulted in accuracy of 85%. Below table shows all the models used for training and the associated accuracies </p>\n",
    "\n",
    "<table>\n",
    "    <tr>\n",
    "        <th> Model </th>\n",
    "        <th> Training Accuracy </th>\n",
    "        <th> Test Accuracy </th>\n",
    "    </tr>\n",
    "        <tr>\n",
    "        <th> SVM </th>\n",
    "        <th> 0.78 </th>\n",
    "        <th>0.62 </th>\n",
    "    </tr>\n",
    "        <tr>\n",
    "        <th> SVM(Polynomial) </th>\n",
    "        <th> 0.8 </th>\n",
    "        <th> 0.73 </th>\n",
    "    </tr>\n",
    "        <tr>\n",
    "        <th> Logistic Regression </th>\n",
    "        <th> 0.57 </th>\n",
    "        <th> 0.62 </th>\n",
    "    </tr>\n",
    "        <tr>\n",
    "        <th> Random Forest </th>\n",
    "        <th> 0.96 </th>\n",
    "        <th> 0.61 </th>\n",
    "    </tr>\n",
    "        <tr>\n",
    "        <th> Random Forest(Hyperparameter Tuning) </th>\n",
    "        <th> 0.57 </th>\n",
    "        <th> 0.62 </th>\n",
    "    </tr>\n",
    "       <tr>\n",
    "        <th> Random Forest(Feature Engineering) </th>\n",
    "        <th> 0.82 </th>\n",
    "        <th> 0.85 </th>\n",
    "    </tr>\n",
    "    <tr>\n",
    "        <th> Voting Classifier </th>\n",
    "        <th> 0.87 </th>\n",
    "        <th> 0.69 </th>\n",
    "    </tr>\n",
    "     <tr>\n",
    "        <th> AdaBoost</th>\n",
    "        <th> 0.96 </th>\n",
    "        <th> 0.61 </th>\n",
    "    </tr>\n",
    "    </table>"
   ]
  },
  {
   "cell_type": "code",
   "execution_count": 38,
   "id": "92271c31",
   "metadata": {},
   "outputs": [],
   "source": [
    "# Create datasets for Training the model by separating target feature from the dependent features\n",
    "X=df.drop(columns=['Y'],axis=1)\n",
    "Y=df[['Y']]"
   ]
  },
  {
   "cell_type": "code",
   "execution_count": 39,
   "id": "04c422e8",
   "metadata": {},
   "outputs": [
    {
     "data": {
      "text/plain": [
       "<AxesSubplot:>"
      ]
     },
     "execution_count": 39,
     "metadata": {},
     "output_type": "execute_result"
    },
    {
     "data": {
      "image/png": "[encoded data removed]",
      "text/plain": [
       "<Figure size 432x288 with 2 Axes>"
      ]
     },
     "metadata": {
      "needs_background": "light"
     },
     "output_type": "display_data"
    }
   ],
   "source": [
    "# Plot the Correlation Matrix\n",
    "sns.heatmap(X.corr(),annot=True)"
   ]
  },
  {
   "cell_type": "markdown",
   "id": "37dd2027",
   "metadata": {},
   "source": [
    "<p>The Correlation between dependent variables for all dependent variables is less than 0.8 (<0.5) suggesting not strong  correlation</p>"
   ]
  },
  {
   "cell_type": "code",
   "execution_count": 40,
   "id": "0192ab02",
   "metadata": {},
   "outputs": [],
   "source": [
    "# Split the dataset into Training and Test datasets. We also perform scaling of the data using Standar Scaler. \n",
    "# Stratify is used so that train and test is balanced as dataset is small\n",
    "\n",
    "X_train,X_test,y_train,y_test = train_test_split(X,Y,test_size=0.20,stratify=Y,random_state=42)\n",
    "scaler = StandardScaler()\n",
    "X_train = scaler.fit_transform(X_train)\n",
    "X_test  = scaler.transform(X_test)\n"
   ]
  },
  {
   "cell_type": "markdown",
   "id": "9c03405c",
   "metadata": {},
   "source": [
    "<h3>Feature Engineering</h3>"
   ]
  },
  {
   "cell_type": "code",
   "execution_count": 41,
   "id": "57979cab",
   "metadata": {},
   "outputs": [
    {
     "data": {
      "text/html": [
       "<style>#sk-container-id-1 {color: black;background-color: white;}#sk-container-id-1 pre{padding: 0;}#sk-container-id-1 div.sk-toggleable {background-color: white;}#sk-container-id-1 label.sk-toggleable__label {cursor: pointer;display: block;width: 100%;margin-bottom: 0;padding: 0.3em;box-sizing: border-box;text-align: center;}#sk-container-id-1 label.sk-toggleable__label-arrow:before {content: \"▸\";float: left;margin-right: 0.25em;color: #696969;}#sk-container-id-1 label.sk-toggleable__label-arrow:hover:before {color: black;}#sk-container-id-1 div.sk-estimator:hover label.sk-toggleable__label-arrow:before {color: black;}#sk-container-id-1 div.sk-toggleable__content {max-height: 0;max-width: 0;overflow: hidden;text-align: left;background-color: #f0f8ff;}#sk-container-id-1 div.sk-toggleable__content pre {margin: 0.2em;color: black;border-radius: 0.25em;background-color: #f0f8ff;}#sk-container-id-1 input.sk-toggleable__control:checked~div.sk-toggleable__content {max-height: 200px;max-width: 100%;overflow: auto;}#sk-container-id-1 input.sk-toggleable__control:checked~label.sk-toggleable__label-arrow:before {content: \"▾\";}#sk-container-id-1 div.sk-estimator input.sk-toggleable__control:checked~label.sk-toggleable__label {background-color: #d4ebff;}#sk-container-id-1 div.sk-label input.sk-toggleable__control:checked~label.sk-toggleable__label {background-color: #d4ebff;}#sk-container-id-1 input.sk-hidden--visually {border: 0;clip: rect(1px 1px 1px 1px);clip: rect(1px, 1px, 1px, 1px);height: 1px;margin: -1px;overflow: hidden;padding: 0;position: absolute;width: 1px;}#sk-container-id-1 div.sk-estimator {font-family: monospace;background-color: #f0f8ff;border: 1px dotted black;border-radius: 0.25em;box-sizing: border-box;margin-bottom: 0.5em;}#sk-container-id-1 div.sk-estimator:hover {background-color: #d4ebff;}#sk-container-id-1 div.sk-parallel-item::after {content: \"\";width: 100%;border-bottom: 1px solid gray;flex-grow: 1;}#sk-container-id-1 div.sk-label:hover label.sk-toggleable__label {background-color: #d4ebff;}#sk-container-id-1 div.sk-serial::before {content: \"\";position: absolute;border-left: 1px solid gray;box-sizing: border-box;top: 0;bottom: 0;left: 50%;z-index: 0;}#sk-container-id-1 div.sk-serial {display: flex;flex-direction: column;align-items: center;background-color: white;padding-right: 0.2em;padding-left: 0.2em;position: relative;}#sk-container-id-1 div.sk-item {position: relative;z-index: 1;}#sk-container-id-1 div.sk-parallel {display: flex;align-items: stretch;justify-content: center;background-color: white;position: relative;}#sk-container-id-1 div.sk-item::before, #sk-container-id-1 div.sk-parallel-item::before {content: \"\";position: absolute;border-left: 1px solid gray;box-sizing: border-box;top: 0;bottom: 0;left: 50%;z-index: -1;}#sk-container-id-1 div.sk-parallel-item {display: flex;flex-direction: column;z-index: 1;position: relative;background-color: white;}#sk-container-id-1 div.sk-parallel-item:first-child::after {align-self: flex-end;width: 50%;}#sk-container-id-1 div.sk-parallel-item:last-child::after {align-self: flex-start;width: 50%;}#sk-container-id-1 div.sk-parallel-item:only-child::after {width: 0;}#sk-container-id-1 div.sk-dashed-wrapped {border: 1px dashed gray;margin: 0 0.4em 0.5em 0.4em;box-sizing: border-box;padding-bottom: 0.4em;background-color: white;}#sk-container-id-1 div.sk-label label {font-family: monospace;font-weight: bold;display: inline-block;line-height: 1.2em;}#sk-container-id-1 div.sk-label-container {text-align: center;}#sk-container-id-1 div.sk-container {/* jupyter's `normalize.less` sets `[hidden] { display: none; }` but bootstrap.min.css set `[hidden] { display: none !important; }` so we also need the `!important` here to be able to override the default hidden behavior on the sphinx rendered scikit-learn.org. See: https://github.com/scikit-learn/scikit-learn/issues/21755 */display: inline-block !important;position: relative;}#sk-container-id-1 div.sk-text-repr-fallback {display: none;}</style><div id=\"sk-container-id-1\" class=\"sk-top-container\"><div class=\"sk-text-repr-fallback\"><pre>RandomForestClassifier(random_state=0)</pre><b>In a Jupyter environment, please rerun this cell to show the HTML representation or trust the notebook. <br />On GitHub, the HTML representation is unable to render, please try loading this page with nbviewer.org.</b></div><div class=\"sk-container\" hidden><div class=\"sk-item\"><div class=\"sk-estimator sk-toggleable\"><input class=\"sk-toggleable__control sk-hidden--visually\" id=\"sk-estimator-id-1\" type=\"checkbox\" checked><label for=\"sk-estimator-id-1\" class=\"sk-toggleable__label sk-toggleable__label-arrow\">RandomForestClassifier</label><div class=\"sk-toggleable__content\"><pre>RandomForestClassifier(random_state=0)</pre></div></div></div></div></div>"
      ],
      "text/plain": [
       "RandomForestClassifier(random_state=0)"
      ]
     },
     "execution_count": 41,
     "metadata": {},
     "output_type": "execute_result"
    }
   ],
   "source": [
    "rfd=RandomForestClassifier(random_state=0)\n",
    "rfd.fit(X_train,y_train)"
   ]
  },
  {
   "cell_type": "code",
   "execution_count": 42,
   "id": "109e39f7",
   "metadata": {},
   "outputs": [
    {
     "data": {
      "text/plain": [
       "array([0.15659304, 0.17231006, 0.20628881, 0.16959741, 0.17671557,\n",
       "       0.1184951 ])"
      ]
     },
     "execution_count": 42,
     "metadata": {},
     "output_type": "execute_result"
    }
   ],
   "source": [
    "# Feature Importances\n",
    "importances=rfd.feature_importances_\n",
    "importances"
   ]
  },
  {
   "cell_type": "code",
   "execution_count": 43,
   "id": "2032a617",
   "metadata": {},
   "outputs": [
    {
     "name": "stdout",
     "output_type": "stream",
     "text": [
      "X1 15.65930401469956\n",
      "X2 17.23100574801835\n",
      "X3 20.62888133788944\n",
      "X4 16.959741012621937\n",
      "X5 17.671557479319727\n",
      "X6 11.849510407450998\n"
     ]
    }
   ],
   "source": [
    "for feature,score in zip(X.columns,rfd.feature_importances_):\n",
    "    print(feature,score*100)"
   ]
  },
  {
   "cell_type": "code",
   "execution_count": 44,
   "id": "9ab8105f",
   "metadata": {},
   "outputs": [
    {
     "data": {
      "image/png": "[encoded data removed]",
      "text/plain": [
       "<Figure size 432x288 with 1 Axes>"
      ]
     },
     "metadata": {
      "needs_background": "light"
     },
     "output_type": "display_data"
    }
   ],
   "source": [
    "std = np.std([tree.feature_importances_ for tree in rfd.estimators_], axis=0)\n",
    "forest_importances = pd.Series(importances, index=X.columns)\n",
    "\n",
    "fig, ax = plt.subplots()\n",
    "forest_importances.plot.bar(yerr=std,ax=ax)\n",
    "ax.set_title(\"Feature importances using MDI\")\n",
    "ax.set_ylabel(\"Mean decrease in impurity\")\n",
    "fig.tight_layout()"
   ]
  },
  {
   "cell_type": "code",
   "execution_count": 45,
   "id": "016421de",
   "metadata": {},
   "outputs": [
    {
     "name": "stdout",
     "output_type": "stream",
     "text": [
      "0.16202512817680417\n",
      "[[ 0.39476837 -0.1767974   0.0901214  -0.0066312   0.26127217 -0.04256024]]\n"
     ]
    }
   ],
   "source": [
    "# Feature Selection using SelectFromModel\n",
    "from sklearn.feature_selection import SelectFromModel\n",
    "selector=SelectFromModel(estimator=LogisticRegression(random_state=42)).fit(X_train,y_train)\n",
    "print(selector.threshold_)\n",
    "print(selector.estimator_.coef_)"
   ]
  },
  {
   "cell_type": "code",
   "execution_count": 46,
   "id": "bafcca6d",
   "metadata": {},
   "outputs": [
    {
     "data": {
      "text/plain": [
       "array([ True,  True, False, False,  True, False])"
      ]
     },
     "execution_count": 46,
     "metadata": {},
     "output_type": "execute_result"
    }
   ],
   "source": [
    "# Boolean values for features that should be used\n",
    "selector.get_support()"
   ]
  },
  {
   "cell_type": "markdown",
   "id": "fcafb01a",
   "metadata": {},
   "source": [
    "<h3>Feature engineering</h3>\n",
    "<p> The least importtant features based on Feature Importances selection will be dropped. Features 'X3' , 'X4' , 'X6' will be dropped </p>"
   ]
  },
  {
   "cell_type": "code",
   "execution_count": 47,
   "id": "9b3acd05",
   "metadata": {},
   "outputs": [],
   "source": [
    "# Create datasets by droping least importtant features\n",
    "Xf=df.drop(columns=['Y','X3','X4','X6'],axis=1)\n",
    "Yf=df[['Y']]\n",
    "Xf_train,Xf_test,yf_train,yf_test = train_test_split(Xf,Yf,test_size=0.20,stratify=Yf,random_state=42)\n",
    "scaler = StandardScaler()\n",
    "Xf_train = scaler.fit_transform(Xf_train)\n",
    "Xf_test  = scaler.transform(Xf_test)\n"
   ]
  },
  {
   "cell_type": "code",
   "execution_count": 48,
   "id": "fae0124c",
   "metadata": {},
   "outputs": [
    {
     "data": {
      "text/html": [
       "<style>#sk-container-id-2 {color: black;background-color: white;}#sk-container-id-2 pre{padding: 0;}#sk-container-id-2 div.sk-toggleable {background-color: white;}#sk-container-id-2 label.sk-toggleable__label {cursor: pointer;display: block;width: 100%;margin-bottom: 0;padding: 0.3em;box-sizing: border-box;text-align: center;}#sk-container-id-2 label.sk-toggleable__label-arrow:before {content: \"▸\";float: left;margin-right: 0.25em;color: #696969;}#sk-container-id-2 label.sk-toggleable__label-arrow:hover:before {color: black;}#sk-container-id-2 div.sk-estimator:hover label.sk-toggleable__label-arrow:before {color: black;}#sk-container-id-2 div.sk-toggleable__content {max-height: 0;max-width: 0;overflow: hidden;text-align: left;background-color: #f0f8ff;}#sk-container-id-2 div.sk-toggleable__content pre {margin: 0.2em;color: black;border-radius: 0.25em;background-color: #f0f8ff;}#sk-container-id-2 input.sk-toggleable__control:checked~div.sk-toggleable__content {max-height: 200px;max-width: 100%;overflow: auto;}#sk-container-id-2 input.sk-toggleable__control:checked~label.sk-toggleable__label-arrow:before {content: \"▾\";}#sk-container-id-2 div.sk-estimator input.sk-toggleable__control:checked~label.sk-toggleable__label {background-color: #d4ebff;}#sk-container-id-2 div.sk-label input.sk-toggleable__control:checked~label.sk-toggleable__label {background-color: #d4ebff;}#sk-container-id-2 input.sk-hidden--visually {border: 0;clip: rect(1px 1px 1px 1px);clip: rect(1px, 1px, 1px, 1px);height: 1px;margin: -1px;overflow: hidden;padding: 0;position: absolute;width: 1px;}#sk-container-id-2 div.sk-estimator {font-family: monospace;background-color: #f0f8ff;border: 1px dotted black;border-radius: 0.25em;box-sizing: border-box;margin-bottom: 0.5em;}#sk-container-id-2 div.sk-estimator:hover {background-color: #d4ebff;}#sk-container-id-2 div.sk-parallel-item::after {content: \"\";width: 100%;border-bottom: 1px solid gray;flex-grow: 1;}#sk-container-id-2 div.sk-label:hover label.sk-toggleable__label {background-color: #d4ebff;}#sk-container-id-2 div.sk-serial::before {content: \"\";position: absolute;border-left: 1px solid gray;box-sizing: border-box;top: 0;bottom: 0;left: 50%;z-index: 0;}#sk-container-id-2 div.sk-serial {display: flex;flex-direction: column;align-items: center;background-color: white;padding-right: 0.2em;padding-left: 0.2em;position: relative;}#sk-container-id-2 div.sk-item {position: relative;z-index: 1;}#sk-container-id-2 div.sk-parallel {display: flex;align-items: stretch;justify-content: center;background-color: white;position: relative;}#sk-container-id-2 div.sk-item::before, #sk-container-id-2 div.sk-parallel-item::before {content: \"\";position: absolute;border-left: 1px solid gray;box-sizing: border-box;top: 0;bottom: 0;left: 50%;z-index: -1;}#sk-container-id-2 div.sk-parallel-item {display: flex;flex-direction: column;z-index: 1;position: relative;background-color: white;}#sk-container-id-2 div.sk-parallel-item:first-child::after {align-self: flex-end;width: 50%;}#sk-container-id-2 div.sk-parallel-item:last-child::after {align-self: flex-start;width: 50%;}#sk-container-id-2 div.sk-parallel-item:only-child::after {width: 0;}#sk-container-id-2 div.sk-dashed-wrapped {border: 1px dashed gray;margin: 0 0.4em 0.5em 0.4em;box-sizing: border-box;padding-bottom: 0.4em;background-color: white;}#sk-container-id-2 div.sk-label label {font-family: monospace;font-weight: bold;display: inline-block;line-height: 1.2em;}#sk-container-id-2 div.sk-label-container {text-align: center;}#sk-container-id-2 div.sk-container {/* jupyter's `normalize.less` sets `[hidden] { display: none; }` but bootstrap.min.css set `[hidden] { display: none !important; }` so we also need the `!important` here to be able to override the default hidden behavior on the sphinx rendered scikit-learn.org. See: https://github.com/scikit-learn/scikit-learn/issues/21755 */display: inline-block !important;position: relative;}#sk-container-id-2 div.sk-text-repr-fallback {display: none;}</style><div id=\"sk-container-id-2\" class=\"sk-top-container\"><div class=\"sk-text-repr-fallback\"><pre>RandomForestClassifier(random_state=0)</pre><b>In a Jupyter environment, please rerun this cell to show the HTML representation or trust the notebook. <br />On GitHub, the HTML representation is unable to render, please try loading this page with nbviewer.org.</b></div><div class=\"sk-container\" hidden><div class=\"sk-item\"><div class=\"sk-estimator sk-toggleable\"><input class=\"sk-toggleable__control sk-hidden--visually\" id=\"sk-estimator-id-2\" type=\"checkbox\" checked><label for=\"sk-estimator-id-2\" class=\"sk-toggleable__label sk-toggleable__label-arrow\">RandomForestClassifier</label><div class=\"sk-toggleable__content\"><pre>RandomForestClassifier(random_state=0)</pre></div></div></div></div></div>"
      ],
      "text/plain": [
       "RandomForestClassifier(random_state=0)"
      ]
     },
     "execution_count": 48,
     "metadata": {},
     "output_type": "execute_result"
    }
   ],
   "source": [
    "# Model Training with Random Forest\n",
    "rff=RandomForestClassifier(random_state=0)\n",
    "rff.fit(Xf_train,yf_train)\n"
   ]
  },
  {
   "cell_type": "code",
   "execution_count": 49,
   "id": "0588058c",
   "metadata": {},
   "outputs": [
    {
     "name": "stdout",
     "output_type": "stream",
     "text": [
      "Accuracy Score of training split 0.82\n",
      "Accuracy Score of test split 0.8461538461538461\n"
     ]
    }
   ],
   "source": [
    "print('Accuracy Score of training split',rff.score(Xf_train,yf_train))\n",
    "print('Accuracy Score of test split',rff.score(Xf_test,yf_test))"
   ]
  },
  {
   "cell_type": "code",
   "execution_count": 50,
   "id": "34bcccf0",
   "metadata": {},
   "outputs": [
    {
     "name": "stdout",
     "output_type": "stream",
     "text": [
      "F1 score of Random Forest model 0.8461538461538461\n",
      "Precision Score of Random Forest model 0.9166666666666666\n",
      "Recall Score of Random Forest model 0.7857142857142857\n",
      "Accuracy Score of Random Forest model 0.8461538461538461\n"
     ]
    }
   ],
   "source": [
    "# Prediction based on the model\n",
    "y_rffpred=rff.predict(Xf_test)\n",
    "print('F1 score of Random Forest model',f1_score(yf_test,y_rffpred))\n",
    "print('Precision Score of Random Forest model',precision_score(yf_test,y_rffpred))\n",
    "print('Recall Score of Random Forest model',recall_score(yf_test,y_rffpred))\n",
    "print('Accuracy Score of Random Forest model',accuracy_score(yf_test,y_rffpred))"
   ]
  },
  {
   "cell_type": "code",
   "execution_count": 51,
   "id": "f807a810",
   "metadata": {},
   "outputs": [
    {
     "name": "stdout",
     "output_type": "stream",
     "text": [
      "[[11  1]\n",
      " [ 3 11]]\n"
     ]
    },
    {
     "data": {
      "text/plain": [
       "<sklearn.metrics._plot.confusion_matrix.ConfusionMatrixDisplay at 0x22dd5427100>"
      ]
     },
     "execution_count": 51,
     "metadata": {},
     "output_type": "execute_result"
    },
    {
     "data": {
      "image/png": "[encoded data removed]",
      "text/plain": [
       "<Figure size 432x288 with 2 Axes>"
      ]
     },
     "metadata": {
      "needs_background": "light"
     },
     "output_type": "display_data"
    }
   ],
   "source": [
    "# Calculate the confusion matrix and plot\n",
    "cm=confusion_matrix(y_test,y_rffpred)\n",
    "print(cm)\n",
    "disp=ConfusionMatrixDisplay(confusion_matrix=cm,display_labels=rff.classes_)\n",
    "disp.plot()"
   ]
  },
  {
   "cell_type": "code",
   "execution_count": 52,
   "id": "02a79d72",
   "metadata": {},
   "outputs": [
    {
     "data": {
      "image/png": "[encoded data removed]",
      "text/plain": [
       "<Figure size 432x288 with 1 Axes>"
      ]
     },
     "metadata": {
      "needs_background": "light"
     },
     "output_type": "display_data"
    }
   ],
   "source": [
    "# Plot the ROC curve\n",
    "rf_auc = roc_auc_score(yf_test,y_rffpred)\n",
    "fpr,tpr,threshold = roc_curve(yf_test,y_rffpred)\n",
    "# rf_roc\n",
    "plt.figure()\n",
    "plt.plot(fpr,tpr)\n",
    "plt.title(\"ROC Curve\") \n",
    "plt.xlabel(\"False Positive Rate\")\n",
    "plt.ylabel(\"True Positive Rate\")\n",
    "plt.show()\n",
    "\n"
   ]
  },
  {
   "cell_type": "markdown",
   "id": "a3865df8",
   "metadata": {},
   "source": [
    "* The higher AUC of the ROC curve shows that classification model did a better job at classifying\n",
    "* Higher value of Precision shows that we are not classifying unhappy customer as Happy which is key for us to get better understanding of Happy customers\n"
   ]
  },
  {
   "cell_type": "markdown",
   "id": "05f8c8bb",
   "metadata": {},
   "source": [
    "<h2> Conclusion </h2>"
   ]
  },
  {
   "cell_type": "markdown",
   "id": "129f0638",
   "metadata": {},
   "source": [
    "<p>The model developed provides us with the resource to predict and understand the satification of our customers. This will help us take any required corrective action towards likely unhappy customers to retain business. Upon receiving the survey based on model predictions we can see the breakdown of happy and unhappy customers and take any required actions </p>"
   ]
  },
  {
   "cell_type": "code",
   "execution_count": null,
   "id": "fd52d048",
   "metadata": {},
   "outputs": [],
   "source": []
  }
 ],
 "metadata": {
  "kernelspec": {
   "display_name": "Python 3 (ipykernel)",
   "language": "python",
   "name": "python3"
  },
  "language_info": {
   "codemirror_mode": {
    "name": "ipython",
    "version": 3
   },
   "file_extension": ".py",
   "mimetype": "text/x-python",
   "name": "python",
   "nbconvert_exporter": "python",
   "pygments_lexer": "ipython3",
   "version": "3.8.8"
  }
 },
 "nbformat": 4,
 "nbformat_minor": 5
}
